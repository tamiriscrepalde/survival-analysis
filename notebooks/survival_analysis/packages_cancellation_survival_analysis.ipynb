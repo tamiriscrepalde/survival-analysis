{
 "cells": [
  {
   "attachments": {},
   "cell_type": "markdown",
   "metadata": {},
   "source": [
    "**Analysis owner**: Tamiris Crepalde <br>\n",
    "**Date**: 09/06/2023 <br>"
   ]
  },
  {
   "attachments": {},
   "cell_type": "markdown",
   "metadata": {},
   "source": [
    "#### Summary \n",
    "\n",
    "1. Introdution\n",
    "<br></br>\n",
    "1. Survival Analysis\n",
    "<br></br>\n",
    "   1. Kaplan-Meier Curve\n",
    "<br></br>\n",
    "   1. Log Rank Test\n",
    "<br></br>\n",
    "1. Modeling\n",
    "<br></br>\n",
    "1. Evaluation\n",
    "<br></br>\n",
    "1. Conclusion\n",
    "<br></br>"
   ]
  },
  {
   "cell_type": "markdown",
   "metadata": {},
   "source": [
    "<h2> Introduction"
   ]
  },
  {
   "cell_type": "markdown",
   "metadata": {},
   "source": [
    "As said before, travel packages have a wide variety of valid periods and flexible cancellation policies. And understanding the Survival Time of a purchase can help financial and commercial planning. The time to a event we are interested in is the time to cancel a order after the purchase.\n",
    "\n",
    "We'll try to identify the time of cancellation after a purchase through Survival Time Analysis. For this, the following statements will be considered:\n",
    "- the start time is the moment of the order;\n",
    "- the event time is the time of the last status change for canceled orders;\n",
    "- the time to the event is the time_to_cancel_days feature; \n",
    "\n",
    "If the order was not canceled, then the case will be considered Censored Data.\n",
    "<br></br>"
   ]
  },
  {
   "attachments": {},
   "cell_type": "markdown",
   "metadata": {},
   "source": [
    "<br></br>\n",
    "<h2> Setup"
   ]
  },
  {
   "cell_type": "code",
   "execution_count": 1,
   "metadata": {},
   "outputs": [],
   "source": [
    "import os\n",
    "\n",
    "path = os.getcwd()\n",
    "# os.chdir(os.path.join('..', path))\n",
    "os.chdir('/home/tamiris/Documentos/Work/2022/survival_analysis/survival_analysis')"
   ]
  },
  {
   "cell_type": "code",
   "execution_count": 66,
   "metadata": {},
   "outputs": [
    {
     "name": "stdout",
     "output_type": "stream",
     "text": [
      "The autoreload extension is already loaded. To reload it, use:\n",
      "  %reload_ext autoreload\n"
     ]
    }
   ],
   "source": [
    "import matplotlib.pyplot as plt\n",
    "import numpy as np\n",
    "import pandas as pd\n",
    "import seaborn as sns\n",
    "\n",
    "from sklearn import set_config\n",
    "from sklearn.model_selection import train_test_split, GridSearchCV\n",
    "from sklearn.calibration import calibration_curve\n",
    "from sksurv.ensemble import RandomSurvivalForest, GradientBoostingSurvivalAnalysis\n",
    "from sksurv.metrics import concordance_index_censored\n",
    "from lifelines import KaplanMeierFitter\n",
    "from lifelines.statistics import logrank_test\n",
    "\n",
    "import src.visualization.visualization_utils as visuals\n",
    "\n",
    "%matplotlib inline\n",
    "%load_ext autoreload\n",
    "%autoreload 2\n",
    "\n",
    "set_config(display=\"text\")"
   ]
  },
  {
   "cell_type": "markdown",
   "metadata": {},
   "source": [
    "<br></br>\n",
    "<h3> Load Data"
   ]
  },
  {
   "cell_type": "code",
   "execution_count": 3,
   "metadata": {},
   "outputs": [],
   "source": [
    "df = pd.read_csv(f'src/data/package_data_processed.csv')"
   ]
  },
  {
   "cell_type": "code",
   "execution_count": 4,
   "metadata": {},
   "outputs": [],
   "source": [
    "df = df[['qty_status_changes', 'destination_city', 'time_to_cancel_days', 'operation_started', 'time_to_cancel_months', 'destination_country', 'accommodation_type', 'qty_dailies', 'last_fill_to_cancel_days', 'order_canceled']]"
   ]
  },
  {
   "cell_type": "code",
   "execution_count": 5,
   "metadata": {},
   "outputs": [
    {
     "data": {
      "text/html": [
       "<div>\n",
       "<style scoped>\n",
       "    .dataframe tbody tr th:only-of-type {\n",
       "        vertical-align: middle;\n",
       "    }\n",
       "\n",
       "    .dataframe tbody tr th {\n",
       "        vertical-align: top;\n",
       "    }\n",
       "\n",
       "    .dataframe thead th {\n",
       "        text-align: right;\n",
       "    }\n",
       "</style>\n",
       "<table border=\"1\" class=\"dataframe\">\n",
       "  <thead>\n",
       "    <tr style=\"text-align: right;\">\n",
       "      <th></th>\n",
       "      <th>qty_status_changes</th>\n",
       "      <th>destination_city</th>\n",
       "      <th>time_to_cancel_days</th>\n",
       "      <th>operation_started</th>\n",
       "      <th>time_to_cancel_months</th>\n",
       "      <th>destination_country</th>\n",
       "      <th>accommodation_type</th>\n",
       "      <th>qty_dailies</th>\n",
       "      <th>last_fill_to_cancel_days</th>\n",
       "      <th>order_canceled</th>\n",
       "    </tr>\n",
       "  </thead>\n",
       "  <tbody>\n",
       "    <tr>\n",
       "      <th>0</th>\n",
       "      <td>1</td>\n",
       "      <td>0</td>\n",
       "      <td>0</td>\n",
       "      <td>1</td>\n",
       "      <td>0</td>\n",
       "      <td>0</td>\n",
       "      <td>0</td>\n",
       "      <td>5</td>\n",
       "      <td>0</td>\n",
       "      <td>0</td>\n",
       "    </tr>\n",
       "    <tr>\n",
       "      <th>1</th>\n",
       "      <td>1</td>\n",
       "      <td>111</td>\n",
       "      <td>0</td>\n",
       "      <td>1</td>\n",
       "      <td>0</td>\n",
       "      <td>0</td>\n",
       "      <td>0</td>\n",
       "      <td>5</td>\n",
       "      <td>0</td>\n",
       "      <td>0</td>\n",
       "    </tr>\n",
       "    <tr>\n",
       "      <th>2</th>\n",
       "      <td>1</td>\n",
       "      <td>155</td>\n",
       "      <td>0</td>\n",
       "      <td>1</td>\n",
       "      <td>0</td>\n",
       "      <td>0</td>\n",
       "      <td>1</td>\n",
       "      <td>6</td>\n",
       "      <td>0</td>\n",
       "      <td>0</td>\n",
       "    </tr>\n",
       "    <tr>\n",
       "      <th>3</th>\n",
       "      <td>3</td>\n",
       "      <td>166</td>\n",
       "      <td>583</td>\n",
       "      <td>0</td>\n",
       "      <td>19</td>\n",
       "      <td>0</td>\n",
       "      <td>0</td>\n",
       "      <td>4</td>\n",
       "      <td>583</td>\n",
       "      <td>1</td>\n",
       "    </tr>\n",
       "    <tr>\n",
       "      <th>4</th>\n",
       "      <td>1</td>\n",
       "      <td>177</td>\n",
       "      <td>0</td>\n",
       "      <td>1</td>\n",
       "      <td>0</td>\n",
       "      <td>11</td>\n",
       "      <td>0</td>\n",
       "      <td>6</td>\n",
       "      <td>0</td>\n",
       "      <td>0</td>\n",
       "    </tr>\n",
       "  </tbody>\n",
       "</table>\n",
       "</div>"
      ],
      "text/plain": [
       "   qty_status_changes  destination_city  time_to_cancel_days   \n",
       "0                   1                 0                    0  \\\n",
       "1                   1               111                    0   \n",
       "2                   1               155                    0   \n",
       "3                   3               166                  583   \n",
       "4                   1               177                    0   \n",
       "\n",
       "   operation_started  time_to_cancel_months  destination_country   \n",
       "0                  1                      0                    0  \\\n",
       "1                  1                      0                    0   \n",
       "2                  1                      0                    0   \n",
       "3                  0                     19                    0   \n",
       "4                  1                      0                   11   \n",
       "\n",
       "   accommodation_type  qty_dailies  last_fill_to_cancel_days  order_canceled  \n",
       "0                   0            5                         0               0  \n",
       "1                   0            5                         0               0  \n",
       "2                   1            6                         0               0  \n",
       "3                   0            4                       583               1  \n",
       "4                   0            6                         0               0  "
      ]
     },
     "execution_count": 5,
     "metadata": {},
     "output_type": "execute_result"
    }
   ],
   "source": [
    "df.head()"
   ]
  },
  {
   "attachments": {},
   "cell_type": "markdown",
   "metadata": {},
   "source": [
    "<br></br>\n",
    "<h2> Data Preparation"
   ]
  },
  {
   "cell_type": "markdown",
   "metadata": {},
   "source": [
    "We'll truncate the dataset to \n",
    "- minimize the impact of data which we can consider as outliers\n",
    "- to remove negative time interval\n",
    "- to remove cases cancelled in 0 days"
   ]
  },
  {
   "cell_type": "markdown",
   "metadata": {},
   "source": [
    "We'll consider outliers the cases above the upper limit of the following boxplot, with time_to_cancel bigger than 750 days."
   ]
  },
  {
   "cell_type": "code",
   "execution_count": 6,
   "metadata": {},
   "outputs": [
    {
     "data": {
      "image/png": "[encoded data removed]",
      "text/plain": [
       "<Figure size 500x800 with 1 Axes>"
      ]
     },
     "metadata": {},
     "output_type": "display_data"
    }
   ],
   "source": [
    "visuals.single_boxplot(df, 'time_to_cancel_days')"
   ]
  },
  {
   "cell_type": "markdown",
   "metadata": {},
   "source": [
    "We'll also remove negative values and the cases with zero days to cancel."
   ]
  },
  {
   "cell_type": "code",
   "execution_count": 7,
   "metadata": {},
   "outputs": [
    {
     "data": {
      "text/plain": [
       "213860   -1\n",
       "502564   -1\n",
       "393229   -1\n",
       "456479   -1\n",
       "439919   -1\n",
       "480383   -1\n",
       "476998   -1\n",
       "827115   -1\n",
       "28991    -1\n",
       "450306   -1\n",
       "398034   -1\n",
       "39907    -1\n",
       "375919   -1\n",
       "5338     -1\n",
       "401634   -1\n",
       "536898    0\n",
       "536891    0\n",
       "536892    0\n",
       "536909    0\n",
       "536904    0\n",
       "Name: time_to_cancel_days, dtype: int64"
      ]
     },
     "execution_count": 7,
     "metadata": {},
     "output_type": "execute_result"
    }
   ],
   "source": [
    "df.time_to_cancel_days.sort_values().head(20)"
   ]
  },
  {
   "cell_type": "code",
   "execution_count": 8,
   "metadata": {},
   "outputs": [],
   "source": [
    "df = df.loc[(df.time_to_cancel_days > 0) & (df.time_to_cancel_days < 750)]"
   ]
  },
  {
   "cell_type": "markdown",
   "metadata": {},
   "source": [
    "<br></br>\n",
    "<h2> Survival Analysis"
   ]
  },
  {
   "attachments": {},
   "cell_type": "markdown",
   "metadata": {},
   "source": [
    "\n",
    "<h4> Kaplan-Meier Curve"
   ]
  },
  {
   "cell_type": "markdown",
   "metadata": {},
   "source": [
    "Let's see the graphic representation of the survival rate for time_to_cancel_days using the Kaplan-Meier (KM) curve."
   ]
  },
  {
   "cell_type": "markdown",
   "metadata": {},
   "source": [
    "From the curve below, it's possible to notice that at least 60% of the orders survives after one year (365 days). The median survival time is 436 days, almost 1.2 years."
   ]
  },
  {
   "cell_type": "code",
   "execution_count": 9,
   "metadata": {},
   "outputs": [
    {
     "data": {
      "image/png": "[encoded data removed]",
      "text/plain": [
       "<Figure size 800x400 with 1 Axes>"
      ]
     },
     "metadata": {},
     "output_type": "display_data"
    }
   ],
   "source": [
    "kmf = KaplanMeierFitter()\n",
    "kmf.fit(df['time_to_cancel_days'], df['order_canceled'])\n",
    "\n",
    "plt.figure(figsize=(8,4))\n",
    "kmf.plot()\n",
    "plt.title(\"Kaplan-Meier curve\");"
   ]
  },
  {
   "cell_type": "code",
   "execution_count": 10,
   "metadata": {},
   "outputs": [
    {
     "name": "stdout",
     "output_type": "stream",
     "text": [
      "Median survival time is 436.0\n"
     ]
    }
   ],
   "source": [
    "print(f'Median survival time is {kmf.median_survival_time_}')"
   ]
  },
  {
   "cell_type": "markdown",
   "metadata": {},
   "source": [
    "In the previous EDA we verified that the feature `operation_started` is the second most important feature impacting package cancellation. So let's fit and plot KM curves considering this feature."
   ]
  },
  {
   "cell_type": "markdown",
   "metadata": {},
   "source": [
    "The curve related to the cases which had the operation started clearly has a bigger median survival time than the other one. With 400 days, less than 40% of the cases which not had the operation started survived. In contrast, almost 80% of the cases with started operations had survived after 400 days."
   ]
  },
  {
   "cell_type": "code",
   "execution_count": 11,
   "metadata": {},
   "outputs": [
    {
     "data": {
      "image/png": "[encoded data removed]",
      "text/plain": [
       "<Figure size 800x400 with 1 Axes>"
      ]
     },
     "metadata": {},
     "output_type": "display_data"
    }
   ],
   "source": [
    "kmf_op = KaplanMeierFitter()\n",
    "kmf_op_ns = KaplanMeierFitter()\n",
    "\n",
    "plt.figure(figsize=(8,4))\n",
    "\n",
    "kmf_op.fit(df.loc[df.operation_started == 1]['time_to_cancel_days'], df.loc[df.operation_started == 1]['order_canceled'], label ='operation_started')\n",
    "ax = kmf_op.plot()\n",
    "\n",
    "kmf_op_ns.fit(df.loc[df.operation_started == 0]['time_to_cancel_days'], df.loc[df.operation_started == 0]['order_canceled'], label ='operation_not_started')\n",
    "kmf_op_ns.plot(ax=ax);"
   ]
  },
  {
   "cell_type": "code",
   "execution_count": 12,
   "metadata": {},
   "outputs": [
    {
     "name": "stdout",
     "output_type": "stream",
     "text": [
      "Median survival time for started operations is 512.0\n",
      "Median survival time for not started operations is 272.0\n"
     ]
    }
   ],
   "source": [
    "print(f'Median survival time for started operations is {kmf_op.median_survival_time_}')\n",
    "print(f'Median survival time for not started operations is {kmf_op_ns.median_survival_time_}')"
   ]
  },
  {
   "attachments": {},
   "cell_type": "markdown",
   "metadata": {},
   "source": [
    "<h4> Log Rank Test"
   ]
  },
  {
   "attachments": {},
   "cell_type": "markdown",
   "metadata": {},
   "source": [
    "The Log Rank Test is useful to compare two curves and verify if the groups represented by each curve are similar related to the surviving process."
   ]
  },
  {
   "attachments": {},
   "cell_type": "markdown",
   "metadata": {},
   "source": [
    "We're going to use the Long Rank Test to verify the null hypothesis that 'operation started' and 'operation not started' survival curves are statistically equivalent:\n",
    "- Null hypothesis: the curves are statistically equivalent (p_value > 0.05);\n",
    "- Alternative hypothesis: the curves are not statistically equivalent."
   ]
  },
  {
   "attachments": {},
   "cell_type": "markdown",
   "metadata": {},
   "source": [
    "The p_value < 0.005 indicates that we can reject the null hypothesis, which means that the survival functions are not statistically equivalent. I.e. the groups 'operation started' and 'operation not started' are nos equivalent in the surviving process."
   ]
  },
  {
   "cell_type": "code",
   "execution_count": 13,
   "metadata": {},
   "outputs": [
    {
     "data": {
      "text/html": [
       "<div>\n",
       "<style scoped>\n",
       "    .dataframe tbody tr th:only-of-type {\n",
       "        vertical-align: middle;\n",
       "    }\n",
       "\n",
       "    .dataframe tbody tr th {\n",
       "        vertical-align: top;\n",
       "    }\n",
       "\n",
       "    .dataframe thead th {\n",
       "        text-align: right;\n",
       "    }\n",
       "</style>\n",
       "<table border=\"1\" class=\"dataframe\">\n",
       "  <tbody>\n",
       "    <tr>\n",
       "      <th>t_0</th>\n",
       "      <td>-1</td>\n",
       "    </tr>\n",
       "    <tr>\n",
       "      <th>null_distribution</th>\n",
       "      <td>chi squared</td>\n",
       "    </tr>\n",
       "    <tr>\n",
       "      <th>degrees_of_freedom</th>\n",
       "      <td>1</td>\n",
       "    </tr>\n",
       "    <tr>\n",
       "      <th>event_observed_a</th>\n",
       "      <td>11        1\n",
       "14        1\n",
       "15        1\n",
       "21        ...</td>\n",
       "    </tr>\n",
       "    <tr>\n",
       "      <th>event_observed_b</th>\n",
       "      <td>3         1\n",
       "9         1\n",
       "10        1\n",
       "18        ...</td>\n",
       "    </tr>\n",
       "    <tr>\n",
       "      <th>test_name</th>\n",
       "      <td>logrank_test</td>\n",
       "    </tr>\n",
       "  </tbody>\n",
       "</table>\n",
       "</div><table border=\"1\" class=\"dataframe\">\n",
       "  <thead>\n",
       "    <tr style=\"text-align: right;\">\n",
       "      <th></th>\n",
       "      <th>test_statistic</th>\n",
       "      <th>p</th>\n",
       "      <th>-log2(p)</th>\n",
       "    </tr>\n",
       "  </thead>\n",
       "  <tbody>\n",
       "    <tr>\n",
       "      <th>0</th>\n",
       "      <td>2660.97</td>\n",
       "      <td>&lt;0.005</td>\n",
       "      <td>inf</td>\n",
       "    </tr>\n",
       "  </tbody>\n",
       "</table>"
      ],
      "text/latex": [
       "\\begin{tabular}{lrrr}\n",
       " & test_statistic & p & -log2(p) \\\\\n",
       "0 & 2660.97 & 0.00 & inf \\\\\n",
       "\\end{tabular}\n"
      ],
      "text/plain": [
       "<lifelines.StatisticalResult: logrank_test>\n",
       "               t_0 = -1\n",
       " null_distribution = chi squared\n",
       "degrees_of_freedom = 1\n",
       "  event_observed_a = 11        1\n",
       "14        1\n",
       "15        1\n",
       "21        0\n",
       "22        0\n",
       "         ..\n",
       "967428    0\n",
       "967430    1\n",
       "967431    0\n",
       "967434    0\n",
       "967435    0\n",
       "Name: order_canceled, Length: 351398, dtype: int64\n",
       "  event_observed_b = 3         1\n",
       "9         1\n",
       "10        1\n",
       "18        1\n",
       "26        1\n",
       "         ..\n",
       "967386    1\n",
       "967392    1\n",
       "967395    1\n",
       "967410    1\n",
       "967433    1\n",
       "Name: order_canceled, Length: 136108, dtype: int64\n",
       "         test_name = logrank_test\n",
       "\n",
       "---\n",
       " test_statistic      p  -log2(p)\n",
       "        2660.97 <0.005       inf"
      ]
     },
     "metadata": {},
     "output_type": "display_data"
    }
   ],
   "source": [
    "results = logrank_test(\n",
    "    df.loc[df.operation_started == 1]['time_to_cancel_months'], \n",
    "    df.loc[df.operation_started == 0]['time_to_cancel_months'], \n",
    "    event_observed_a = df.loc[df.operation_started == 1]['order_canceled'], \n",
    "    event_observed_b = df.loc[df.operation_started == 0]['order_canceled']\n",
    ")\n",
    "results.print_summary()"
   ]
  },
  {
   "attachments": {},
   "cell_type": "markdown",
   "metadata": {},
   "source": [
    "<br></br>\n",
    "<h2> Modeling"
   ]
  },
  {
   "cell_type": "markdown",
   "metadata": {},
   "source": [
    "We're going to sample the dataset to prevent from kernel crashing. The dataset is sufficiently balanced, so we'll generate a random stratified sample:"
   ]
  },
  {
   "cell_type": "code",
   "execution_count": 14,
   "metadata": {},
   "outputs": [
    {
     "data": {
      "text/plain": [
       "order_canceled\n",
       "0    257032\n",
       "1    230474\n",
       "Name: count, dtype: int64"
      ]
     },
     "execution_count": 14,
     "metadata": {},
     "output_type": "execute_result"
    }
   ],
   "source": [
    "df.order_canceled.value_counts()"
   ]
  },
  {
   "cell_type": "code",
   "execution_count": 15,
   "metadata": {},
   "outputs": [
    {
     "data": {
      "text/plain": [
       "(487506, 10)"
      ]
     },
     "execution_count": 15,
     "metadata": {},
     "output_type": "execute_result"
    }
   ],
   "source": [
    "df.shape"
   ]
  },
  {
   "cell_type": "code",
   "execution_count": 51,
   "metadata": {},
   "outputs": [
    {
     "data": {
      "text/plain": [
       "(20000, 10)"
      ]
     },
     "execution_count": 51,
     "metadata": {},
     "output_type": "execute_result"
    }
   ],
   "source": [
    "df_samp = df.groupby('order_canceled', group_keys=False).apply(lambda x: x.sample(10000))\n",
    "df_samp.shape"
   ]
  },
  {
   "attachments": {},
   "cell_type": "markdown",
   "metadata": {},
   "source": [
    "We'll evaluate two models:\n",
    "- Random Survival Forest\n",
    "- Gradient Boosting Survival Analysis"
   ]
  },
  {
   "attachments": {},
   "cell_type": "markdown",
   "metadata": {},
   "source": [
    "We'll consider the 'time_to_cancel_days' as the time to the event, and 'order_canceled' is the event occurrence."
   ]
  },
  {
   "cell_type": "code",
   "execution_count": 18,
   "metadata": {},
   "outputs": [],
   "source": [
    "df_samp['order_canceled'] = df_samp['order_canceled'].astype(bool) \n",
    "\n",
    "X = df_samp.drop(['order_canceled', 'time_to_cancel_months', 'time_to_cancel_days'], axis=1)\n",
    "y = df_samp[['order_canceled', 'time_to_cancel_days']]"
   ]
  },
  {
   "attachments": {},
   "cell_type": "markdown",
   "metadata": {},
   "source": [
    "Splitting the data into train and test datasets:"
   ]
  },
  {
   "cell_type": "code",
   "execution_count": 19,
   "metadata": {},
   "outputs": [],
   "source": [
    "X_train, X_test, y_train, y_test = train_test_split(\n",
    "    X, \n",
    "    y, \n",
    "    test_size=0.3, \n",
    "    random_state=42\n",
    ")"
   ]
  },
  {
   "attachments": {},
   "cell_type": "markdown",
   "metadata": {},
   "source": [
    "Now let's define the parameters, and it's range of values, for each of the models we'll train. The parameters will be used to perform GridSearchCV:"
   ]
  },
  {
   "cell_type": "code",
   "execution_count": 20,
   "metadata": {},
   "outputs": [],
   "source": [
    "cases = {\n",
    "    'rsf': {'model': RandomSurvivalForest, 'params': {'n_estimators': [10, 50, 100], 'min_samples_split': [2, 4, 6], 'min_samples_leaf': [5, 10]},}, \n",
    "    'gb': {'model': GradientBoostingSurvivalAnalysis, 'params': {'n_estimators': [10, 50, 100], 'learning_rate': [0.1, 0.01, 0.001]}}\n",
    "}"
   ]
  },
  {
   "cell_type": "code",
   "execution_count": 22,
   "metadata": {},
   "outputs": [],
   "source": [
    "models = []\n",
    "\n",
    "for key, values in cases.items():\n",
    "    globals()[f'{key}_model'] = GridSearchCV(values['model'](random_state=42), values['params'], cv=5, verbose=1.1)\n",
    "    models.append(globals()[f'{key}_model'])"
   ]
  },
  {
   "cell_type": "code",
   "execution_count": 52,
   "metadata": {},
   "outputs": [
    {
     "data": {
      "text/plain": [
       "[GridSearchCV(cv=5, estimator=RandomSurvivalForest(random_state=42),\n",
       "              param_grid={'min_samples_leaf': [5, 10],\n",
       "                          'min_samples_split': [2, 4, 6],\n",
       "                          'n_estimators': [10, 50, 100]},\n",
       "              verbose=1.1),\n",
       " GridSearchCV(cv=5, estimator=GradientBoostingSurvivalAnalysis(random_state=42),\n",
       "              param_grid={'learning_rate': [0.1, 0.01, 0.001],\n",
       "                          'n_estimators': [10, 50, 100]},\n",
       "              verbose=1.1)]"
      ]
     },
     "execution_count": 52,
     "metadata": {},
     "output_type": "execute_result"
    }
   ],
   "source": [
    "models"
   ]
  },
  {
   "attachments": {},
   "cell_type": "markdown",
   "metadata": {},
   "source": [
    "Fitting the models:"
   ]
  },
  {
   "cell_type": "code",
   "execution_count": 23,
   "metadata": {},
   "outputs": [
    {
     "name": "stdout",
     "output_type": "stream",
     "text": [
      "Fitting the model GridSearchCV(cv=5, estimator=RandomSurvivalForest(random_state=42),\n",
      "             param_grid={'min_samples_leaf': [5, 10],\n",
      "                         'min_samples_split': [2, 4, 6],\n",
      "                         'n_estimators': [10, 50, 100]},\n",
      "             verbose=1.1)...\n",
      "Fitting 5 folds for each of 18 candidates, totalling 90 fits\n",
      "[CV] END min_samples_leaf=5, min_samples_split=2, n_estimators=10; total time=   4.4s\n",
      "[CV] END min_samples_leaf=5, min_samples_split=2, n_estimators=10; total time=   3.5s\n",
      "[CV] END min_samples_leaf=5, min_samples_split=2, n_estimators=10; total time=   4.1s\n",
      "[CV] END min_samples_leaf=5, min_samples_split=2, n_estimators=10; total time=   3.7s\n",
      "[CV] END min_samples_leaf=5, min_samples_split=2, n_estimators=10; total time=   4.1s\n",
      "[CV] END min_samples_leaf=5, min_samples_split=2, n_estimators=50; total time=  22.7s\n",
      "[CV] END min_samples_leaf=5, min_samples_split=2, n_estimators=50; total time=  21.2s\n",
      "[CV] END min_samples_leaf=5, min_samples_split=2, n_estimators=50; total time=  21.8s\n",
      "[CV] END min_samples_leaf=5, min_samples_split=2, n_estimators=50; total time=  21.1s\n",
      "[CV] END min_samples_leaf=5, min_samples_split=2, n_estimators=50; total time=  21.5s\n",
      "[CV] END min_samples_leaf=5, min_samples_split=2, n_estimators=100; total time=  40.6s\n",
      "[CV] END min_samples_leaf=5, min_samples_split=2, n_estimators=100; total time=  38.5s\n",
      "[CV] END min_samples_leaf=5, min_samples_split=2, n_estimators=100; total time=  40.6s\n",
      "[CV] END min_samples_leaf=5, min_samples_split=2, n_estimators=100; total time=  43.5s\n",
      "[CV] END min_samples_leaf=5, min_samples_split=2, n_estimators=100; total time=  44.0s\n",
      "[CV] END min_samples_leaf=5, min_samples_split=4, n_estimators=10; total time=   4.4s\n",
      "[CV] END min_samples_leaf=5, min_samples_split=4, n_estimators=10; total time=   3.7s\n",
      "[CV] END min_samples_leaf=5, min_samples_split=4, n_estimators=10; total time=   4.2s\n",
      "[CV] END min_samples_leaf=5, min_samples_split=4, n_estimators=10; total time=   3.9s\n",
      "[CV] END min_samples_leaf=5, min_samples_split=4, n_estimators=10; total time=   4.3s\n",
      "[CV] END min_samples_leaf=5, min_samples_split=4, n_estimators=50; total time=  22.8s\n",
      "[CV] END min_samples_leaf=5, min_samples_split=4, n_estimators=50; total time=  21.4s\n",
      "[CV] END min_samples_leaf=5, min_samples_split=4, n_estimators=50; total time=  22.4s\n",
      "[CV] END min_samples_leaf=5, min_samples_split=4, n_estimators=50; total time=  23.1s\n",
      "[CV] END min_samples_leaf=5, min_samples_split=4, n_estimators=50; total time=  32.0s\n",
      "[CV] END min_samples_leaf=5, min_samples_split=4, n_estimators=100; total time=  51.9s\n",
      "[CV] END min_samples_leaf=5, min_samples_split=4, n_estimators=100; total time=  46.9s\n",
      "[CV] END min_samples_leaf=5, min_samples_split=4, n_estimators=100; total time=  49.6s\n",
      "[CV] END min_samples_leaf=5, min_samples_split=4, n_estimators=100; total time=  49.8s\n",
      "[CV] END min_samples_leaf=5, min_samples_split=4, n_estimators=100; total time=  53.0s\n",
      "[CV] END min_samples_leaf=5, min_samples_split=6, n_estimators=10; total time=   4.9s\n",
      "[CV] END min_samples_leaf=5, min_samples_split=6, n_estimators=10; total time=   4.2s\n",
      "[CV] END min_samples_leaf=5, min_samples_split=6, n_estimators=10; total time=   4.6s\n",
      "[CV] END min_samples_leaf=5, min_samples_split=6, n_estimators=10; total time=   4.5s\n",
      "[CV] END min_samples_leaf=5, min_samples_split=6, n_estimators=10; total time=   5.2s\n",
      "[CV] END min_samples_leaf=5, min_samples_split=6, n_estimators=50; total time=  23.6s\n",
      "[CV] END min_samples_leaf=5, min_samples_split=6, n_estimators=50; total time=  21.6s\n",
      "[CV] END min_samples_leaf=5, min_samples_split=6, n_estimators=50; total time=  22.9s\n",
      "[CV] END min_samples_leaf=5, min_samples_split=6, n_estimators=50; total time=  23.3s\n",
      "[CV] END min_samples_leaf=5, min_samples_split=6, n_estimators=50; total time=  23.3s\n",
      "[CV] END min_samples_leaf=5, min_samples_split=6, n_estimators=100; total time=  45.6s\n",
      "[CV] END min_samples_leaf=5, min_samples_split=6, n_estimators=100; total time=  44.3s\n",
      "[CV] END min_samples_leaf=5, min_samples_split=6, n_estimators=100; total time=  45.5s\n",
      "[CV] END min_samples_leaf=5, min_samples_split=6, n_estimators=100; total time=  46.7s\n",
      "[CV] END min_samples_leaf=5, min_samples_split=6, n_estimators=100; total time=  47.9s\n",
      "[CV] END min_samples_leaf=10, min_samples_split=2, n_estimators=10; total time=   4.2s\n",
      "[CV] END min_samples_leaf=10, min_samples_split=2, n_estimators=10; total time=   4.4s\n",
      "[CV] END min_samples_leaf=10, min_samples_split=2, n_estimators=10; total time=   4.8s\n",
      "[CV] END min_samples_leaf=10, min_samples_split=2, n_estimators=10; total time=   4.2s\n",
      "[CV] END min_samples_leaf=10, min_samples_split=2, n_estimators=10; total time=   4.1s\n",
      "[CV] END min_samples_leaf=10, min_samples_split=2, n_estimators=50; total time=  24.2s\n",
      "[CV] END min_samples_leaf=10, min_samples_split=2, n_estimators=50; total time=  38.8s\n",
      "[CV] END min_samples_leaf=10, min_samples_split=2, n_estimators=50; total time=  29.1s\n",
      "[CV] END min_samples_leaf=10, min_samples_split=2, n_estimators=50; total time=  25.8s\n",
      "[CV] END min_samples_leaf=10, min_samples_split=2, n_estimators=50; total time=  25.1s\n",
      "[CV] END min_samples_leaf=10, min_samples_split=2, n_estimators=100; total time=  48.4s\n",
      "[CV] END min_samples_leaf=10, min_samples_split=2, n_estimators=100; total time=  50.9s\n",
      "[CV] END min_samples_leaf=10, min_samples_split=2, n_estimators=100; total time=  52.5s\n",
      "[CV] END min_samples_leaf=10, min_samples_split=2, n_estimators=100; total time=  45.2s\n",
      "[CV] END min_samples_leaf=10, min_samples_split=2, n_estimators=100; total time=  40.9s\n",
      "[CV] END min_samples_leaf=10, min_samples_split=4, n_estimators=10; total time=   4.0s\n",
      "[CV] END min_samples_leaf=10, min_samples_split=4, n_estimators=10; total time=   4.8s\n",
      "[CV] END min_samples_leaf=10, min_samples_split=4, n_estimators=10; total time=   4.8s\n",
      "[CV] END min_samples_leaf=10, min_samples_split=4, n_estimators=10; total time=   4.2s\n",
      "[CV] END min_samples_leaf=10, min_samples_split=4, n_estimators=10; total time=   4.1s\n",
      "[CV] END min_samples_leaf=10, min_samples_split=4, n_estimators=50; total time=  21.9s\n",
      "[CV] END min_samples_leaf=10, min_samples_split=4, n_estimators=50; total time=  22.1s\n",
      "[CV] END min_samples_leaf=10, min_samples_split=4, n_estimators=50; total time=  22.9s\n",
      "[CV] END min_samples_leaf=10, min_samples_split=4, n_estimators=50; total time=  20.9s\n",
      "[CV] END min_samples_leaf=10, min_samples_split=4, n_estimators=50; total time=  22.2s\n",
      "[CV] END min_samples_leaf=10, min_samples_split=4, n_estimators=100; total time=  41.7s\n",
      "[CV] END min_samples_leaf=10, min_samples_split=4, n_estimators=100; total time=  42.6s\n",
      "[CV] END min_samples_leaf=10, min_samples_split=4, n_estimators=100; total time=  44.2s\n",
      "[CV] END min_samples_leaf=10, min_samples_split=4, n_estimators=100; total time=  41.9s\n",
      "[CV] END min_samples_leaf=10, min_samples_split=4, n_estimators=100; total time=  56.3s\n",
      "[CV] END min_samples_leaf=10, min_samples_split=6, n_estimators=10; total time=   4.6s\n",
      "[CV] END min_samples_leaf=10, min_samples_split=6, n_estimators=10; total time=   4.6s\n",
      "[CV] END min_samples_leaf=10, min_samples_split=6, n_estimators=10; total time=   4.5s\n",
      "[CV] END min_samples_leaf=10, min_samples_split=6, n_estimators=10; total time=   4.1s\n",
      "[CV] END min_samples_leaf=10, min_samples_split=6, n_estimators=10; total time=   4.1s\n",
      "[CV] END min_samples_leaf=10, min_samples_split=6, n_estimators=50; total time=  20.0s\n",
      "[CV] END min_samples_leaf=10, min_samples_split=6, n_estimators=50; total time=  20.7s\n",
      "[CV] END min_samples_leaf=10, min_samples_split=6, n_estimators=50; total time=  22.7s\n",
      "[CV] END min_samples_leaf=10, min_samples_split=6, n_estimators=50; total time=  20.7s\n",
      "[CV] END min_samples_leaf=10, min_samples_split=6, n_estimators=50; total time=  20.0s\n",
      "[CV] END min_samples_leaf=10, min_samples_split=6, n_estimators=100; total time=  39.3s\n",
      "[CV] END min_samples_leaf=10, min_samples_split=6, n_estimators=100; total time=  40.4s\n",
      "[CV] END min_samples_leaf=10, min_samples_split=6, n_estimators=100; total time=  42.2s\n",
      "[CV] END min_samples_leaf=10, min_samples_split=6, n_estimators=100; total time=  39.3s\n",
      "[CV] END min_samples_leaf=10, min_samples_split=6, n_estimators=100; total time=  45.3s\n",
      "Completed.\n",
      "\n",
      "Fitting the model GridSearchCV(cv=5, estimator=GradientBoostingSurvivalAnalysis(random_state=42),\n",
      "             param_grid={'learning_rate': [0.1, 0.01, 0.001],\n",
      "                         'n_estimators': [10, 50, 100]},\n",
      "             verbose=1.1)...\n",
      "Fitting 5 folds for each of 9 candidates, totalling 45 fits\n",
      "[CV] END .................learning_rate=0.1, n_estimators=10; total time=  17.8s\n",
      "[CV] END .................learning_rate=0.1, n_estimators=10; total time=  17.3s\n",
      "[CV] END .................learning_rate=0.1, n_estimators=10; total time=  17.4s\n",
      "[CV] END .................learning_rate=0.1, n_estimators=10; total time=  17.6s\n",
      "[CV] END .................learning_rate=0.1, n_estimators=10; total time=  17.4s\n",
      "[CV] END .................learning_rate=0.1, n_estimators=50; total time= 1.5min\n",
      "[CV] END .................learning_rate=0.1, n_estimators=50; total time= 1.4min\n",
      "[CV] END .................learning_rate=0.1, n_estimators=50; total time= 1.4min\n",
      "[CV] END .................learning_rate=0.1, n_estimators=50; total time= 1.4min\n",
      "[CV] END .................learning_rate=0.1, n_estimators=50; total time= 1.5min\n",
      "[CV] END ................learning_rate=0.1, n_estimators=100; total time= 2.9min\n",
      "[CV] END ................learning_rate=0.1, n_estimators=100; total time= 3.1min\n",
      "[CV] END ................learning_rate=0.1, n_estimators=100; total time= 2.8min\n",
      "[CV] END ................learning_rate=0.1, n_estimators=100; total time= 2.8min\n",
      "[CV] END ................learning_rate=0.1, n_estimators=100; total time= 2.8min\n",
      "[CV] END ................learning_rate=0.01, n_estimators=10; total time=  16.8s\n",
      "[CV] END ................learning_rate=0.01, n_estimators=10; total time=  17.1s\n",
      "[CV] END ................learning_rate=0.01, n_estimators=10; total time=  17.1s\n",
      "[CV] END ................learning_rate=0.01, n_estimators=10; total time=  17.2s\n",
      "[CV] END ................learning_rate=0.01, n_estimators=10; total time=  17.3s\n",
      "[CV] END ................learning_rate=0.01, n_estimators=50; total time= 1.9min\n",
      "[CV] END ................learning_rate=0.01, n_estimators=50; total time= 1.6min\n",
      "[CV] END ................learning_rate=0.01, n_estimators=50; total time= 1.6min\n",
      "[CV] END ................learning_rate=0.01, n_estimators=50; total time= 1.6min\n",
      "[CV] END ................learning_rate=0.01, n_estimators=50; total time= 1.6min\n",
      "[CV] END ...............learning_rate=0.01, n_estimators=100; total time= 3.1min\n",
      "[CV] END ...............learning_rate=0.01, n_estimators=100; total time= 3.2min\n",
      "[CV] END ...............learning_rate=0.01, n_estimators=100; total time= 3.2min\n",
      "[CV] END ...............learning_rate=0.01, n_estimators=100; total time= 3.0min\n",
      "[CV] END ...............learning_rate=0.01, n_estimators=100; total time= 2.9min\n",
      "[CV] END ...............learning_rate=0.001, n_estimators=10; total time=  17.8s\n",
      "[CV] END ...............learning_rate=0.001, n_estimators=10; total time=  17.8s\n",
      "[CV] END ...............learning_rate=0.001, n_estimators=10; total time=  23.2s\n",
      "[CV] END ...............learning_rate=0.001, n_estimators=10; total time=  19.5s\n",
      "[CV] END ...............learning_rate=0.001, n_estimators=10; total time=  19.2s\n",
      "[CV] END ...............learning_rate=0.001, n_estimators=50; total time= 1.4min\n",
      "[CV] END ...............learning_rate=0.001, n_estimators=50; total time= 1.4min\n",
      "[CV] END ...............learning_rate=0.001, n_estimators=50; total time= 1.4min\n",
      "[CV] END ...............learning_rate=0.001, n_estimators=50; total time= 1.4min\n",
      "[CV] END ...............learning_rate=0.001, n_estimators=50; total time= 1.4min\n",
      "[CV] END ..............learning_rate=0.001, n_estimators=100; total time= 3.0min\n",
      "[CV] END ..............learning_rate=0.001, n_estimators=100; total time= 3.0min\n",
      "[CV] END ..............learning_rate=0.001, n_estimators=100; total time= 2.9min\n",
      "[CV] END ..............learning_rate=0.001, n_estimators=100; total time= 3.0min\n",
      "[CV] END ..............learning_rate=0.001, n_estimators=100; total time= 3.0min\n",
      "Completed.\n",
      "\n"
     ]
    }
   ],
   "source": [
    "for model in models:\n",
    "    print(f'Fitting the model {model}...')\n",
    "    model.fit(X_train, y_train.to_records(index=False))\n",
    "    print('Completed.')\n",
    "    print()"
   ]
  },
  {
   "attachments": {},
   "cell_type": "markdown",
   "metadata": {},
   "source": [
    "Performing the inferences:"
   ]
  },
  {
   "cell_type": "code",
   "execution_count": 46,
   "metadata": {},
   "outputs": [],
   "source": [
    "rsf_score = concordance_index_censored(y_test['order_canceled'], y_test['time_to_cancel_days'], models[0].predict(X_test))\n",
    "gb_score = concordance_index_censored(y_test['order_canceled'], y_test['time_to_cancel_days'], models[1].predict(X_test))"
   ]
  },
  {
   "attachments": {},
   "cell_type": "markdown",
   "metadata": {},
   "source": [
    "To evaluate and compare the models, we'll use the Concordance Index (C-index), which measures the model's ability to rank subjects according to their survival times.\n",
    "\n",
    "According to the values below we can attest that the Gradient Boosting Survival Analysis performed better than the Random Survival Forest."
   ]
  },
  {
   "cell_type": "code",
   "execution_count": 47,
   "metadata": {},
   "outputs": [
    {
     "name": "stdout",
     "output_type": "stream",
     "text": [
      "Random Survival Forest C-index: 0.884456088356325\n",
      "Gradient Boosting Survival Analysis C-index: 0.9600492260292958\n"
     ]
    }
   ],
   "source": [
    "print(\"Random Survival Forest C-index:\", rsf_score[0])\n",
    "print(\"Gradient Boosting Survival Analysis C-index:\", gb_score[0])"
   ]
  },
  {
   "cell_type": "code",
   "execution_count": null,
   "metadata": {},
   "outputs": [],
   "source": []
  }
 ],
 "metadata": {
  "kernelspec": {
   "display_name": "env-survival-analysis",
   "language": "python",
   "name": "env-survival-analysis"
  },
  "language_info": {
   "codemirror_mode": {
    "name": "ipython",
    "version": 3
   },
   "file_extension": ".py",
   "mimetype": "text/x-python",
   "name": "python",
   "nbconvert_exporter": "python",
   "pygments_lexer": "ipython3",
   "version": "3.10.6"
  },
  "orig_nbformat": 4
 },
 "nbformat": 4,
 "nbformat_minor": 2
}
